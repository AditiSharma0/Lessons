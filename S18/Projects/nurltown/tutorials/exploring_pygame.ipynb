{
 "cells": [
  {
   "cell_type": "markdown",
   "metadata": {},
   "source": [
    "# Exploring Pygame\n",
    "\n",
    "\n",
    "In this tutorial, we will be exloring the basics of game development using the Pygame platform. We will be creating a 2D game world, populating it with entities (creatures, barriers and food), and using that to understand some key concepts of game development such **the game loop**, **rendering**, and **game logic**.\n",
    "\n",
    "For this introduction to pygame, we will be roughly following [this youtube video series by sentdex](https://www.youtube.com/watch?v=ujOTNg17LjI&list=PLQVvvaa0QuDdLkP8MrOXLe_rKuf6r80KO). As we progress through the components of Pygame, I will be adding further commentary to develop our understanding of general programming and game development. That said, if you feel confident, definitely use the video series as an extra resource to enrich your learning.\n",
    "\n",
    "To begin, create a file in the root directory of your project and name is `test_game.py`.\n",
    "\n"
   ]
  },
  {
   "cell_type": "code",
   "execution_count": null,
   "metadata": {},
   "outputs": [],
   "source": [
    "# test_game.py\n",
    "\n",
    "import pygame\n",
    "print(dir(pygame))\n"
   ]
  },
  {
   "cell_type": "markdown",
   "metadata": {},
   "source": [
    "_authored by Ahrar Monsur_"
   ]
  },
  {
   "cell_type": "code",
   "execution_count": null,
   "metadata": {},
   "outputs": [],
   "source": []
  }
 ],
 "metadata": {
  "kernelspec": {
   "display_name": "Python 3",
   "language": "python",
   "name": "python3"
  },
  "language_info": {
   "codemirror_mode": {
    "name": "ipython",
    "version": 3
   },
   "file_extension": ".py",
   "mimetype": "text/x-python",
   "name": "python",
   "nbconvert_exporter": "python",
   "pygments_lexer": "ipython3",
   "version": "3.6.5"
  }
 },
 "nbformat": 4,
 "nbformat_minor": 2
}
